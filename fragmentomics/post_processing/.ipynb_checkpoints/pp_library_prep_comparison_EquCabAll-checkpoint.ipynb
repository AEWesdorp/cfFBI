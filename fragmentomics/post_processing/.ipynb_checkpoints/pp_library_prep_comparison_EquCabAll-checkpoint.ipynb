{
 "cells": [
  {
   "cell_type": "code",
   "execution_count": 63,
   "metadata": {},
   "outputs": [],
   "source": [
    "require(\"Hmisc\")\n",
    "require(\"dplyr\")\n",
    "require(\"R.utils\")\n",
    "require(\"Biostrings\")\n",
    "require(\"data.table\")\n",
    "\n",
    "HOST_IN_EquAll=\"../../output/01_pipeline/library_prep_comparison_EquCabAll/results/host_TLEN_readCount/\"\n",
    "list.files(HOST_IN_EquAll, pattern = \"[pos/neg]_nonMT_TLEN_EndMotif.txt\") %>% length()\n",
    "\n",
    "if (exists(\"foal_nonMT_IS_meta\")){rm(\"foal_nonMT_IS_meta\")}\n",
    "for (file in list.files(HOST_IN_EquAll, pattern = \"[pos/neg]_nonMT_TLEN_EndMotif.txt\")){\n",
    "    sample_tmp <- unlist(strsplit(file, \"_\"))[1] \n",
    "    side_tmp <- unlist(strsplit(file, \"_\"))[2]\n",
    "    \n",
    "    if(countLines(paste0(HOST_IN_EquAll, file)) > 1){\n",
    "        pre_tmp_IS <- fread(paste0(HOST_IN_EquAll, file), sep = \",\") %>% \n",
    "                    dplyr::rename(EndMotif_tmp = EndMotif) %>% \n",
    "                    mutate(sample_id = sample_tmp) %>% \n",
    "                    mutate(side = side_tmp) %>%\n",
    "                    filter(TLEN != 0) %>% #remove TLEN not equal to 0\n",
    "                    filter(abs(TLEN) < 1000) %>% #filter max TLEN of 1000\n",
    "                    group_by(TLEN, sample_id, side) %>% \n",
    "                    summarise(Count = sum(Count), .groups = \"keep\")\n",
    "        \n",
    "        if (!exists(\"foal_nonMT_IS_meta\")){foal_nonMT_IS_meta <- pre_tmp_IS} else {\n",
    "            foal_nonMT_IS_meta <- rbind(foal_nonMT_IS_meta, pre_tmp_IS)}\n",
    "    }\n",
    "    fwrite(foal_nonMT_IS_meta, \"../../output/04_fragmentomics/library_prep_comparison_EquCabAll_nonMT_IS_meta.csv\", row.names = FALSE)\n",
    "}"
   ]
  }
 ],
 "metadata": {
  "kernelspec": {
   "display_name": "R [conda env:r4.2.0]",
   "language": "R",
   "name": "conda-env-r4.2.0-r"
  },
  "language_info": {
   "codemirror_mode": "r",
   "file_extension": ".r",
   "mimetype": "text/x-r-source",
   "name": "R",
   "pygments_lexer": "r",
   "version": "4.2.3"
  }
 },
 "nbformat": 4,
 "nbformat_minor": 4
}
