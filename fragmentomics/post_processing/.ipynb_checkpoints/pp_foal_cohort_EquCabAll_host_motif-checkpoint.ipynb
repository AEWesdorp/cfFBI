{
 "cells": [
  {
   "cell_type": "code",
   "execution_count": null,
   "metadata": {},
   "outputs": [
    {
     "data": {
      "text/html": [
       "156"
      ],
      "text/latex": [
       "156"
      ],
      "text/markdown": [
       "156"
      ],
      "text/plain": [
       "[1] 156"
      ]
     },
     "metadata": {},
     "output_type": "display_data"
    }
   ],
   "source": [
    "require(\"Hmisc\")\n",
    "require(\"dplyr\")\n",
    "require(\"R.utils\")\n",
    "require(\"Biostrings\")\n",
    "require(\"data.table\")\n",
    "\n",
    "DIR_IN_FOALS=\"../../output/01_pipeline/foal_cohort_EquCabAll/results/host_TLEN_readCount/\"\n",
    "list.files(DIR_IN_FOALS, pattern = \"[pos/neg]_nonMT_TLEN_EndMotif.txt\") %>% length\n",
    "\n",
    "if (exists(\"foal_nonMT_IS_meta\")){rm(\"foal_nonMT_IS_meta\")}\n",
    "for (file in list.files(DIR_IN_FOALS, pattern = \"[pos/neg]_nonMT_TLEN_EndMotif.txt\")){\n",
    "    sample_tmp <- unlist(strsplit(file, \"_\"))[1] \n",
    "    side_tmp <- unlist(strsplit(file, \"_\"))[2]\n",
    "    \n",
    "    if(countLines(paste0(DIR_IN_FOALS, file)) > 1){\n",
    "        pre_tmp_IS <- fread(paste0(DIR_IN_FOALS, file), sep = \",\") %>% \n",
    "                    dplyr::rename(EndMotif_tmp = EndMotif) %>% \n",
    "                    mutate(sample_id = sample_tmp) %>% \n",
    "                    mutate(side = side_tmp) %>%\n",
    "                    filter(TLEN != 0) %>% #remove TLEN not equal to 0\n",
    "                    filter(abs(TLEN) < 1000) %>% #filter max TLEN of 1000\n",
    "                    filter(!grepl(EndMotif_tmp, pattern = \"N\")) %>% #remove reads with end-motif including \"N\"\n",
    "                    group_by(TLEN, EndMotif_tmp, side, sample_id) %>% \n",
    "                    summarise(Count = sum(Count), .groups = \"keep\")\n",
    "        \n",
    "        if (grepl(side_tmp, pattern = \"neg\")){\n",
    "            tmp_IS <- pre_tmp_IS\n",
    "            tmp_IS$EndMotif <- as.character(reverseComplement(DNAStringSet(pre_tmp_IS$EndMotif_tmp))) \n",
    "        } else {\n",
    "            tmp_IS <- pre_tmp_IS\n",
    "            tmp_IS$EndMotif <- pre_tmp_IS$EndMotif_tmp\n",
    "        }\n",
    "        tmp_IS_meta <- tmp_IS\n",
    "        if (!exists(\"foal_nonMT_IS_meta\")){foal_nonMT_IS_meta <- tmp_IS_meta} else {\n",
    "            foal_nonMT_IS_meta <- rbind(foal_nonMT_IS_meta, tmp_IS_meta)}\n",
    "    }\n",
    "    fwrite(foal_nonMT_IS_meta, \"../../output/04_fragmentomics/foal_cohort_EquCabAll_host_nonMT_motif.csv\", row.names = FALSE)\n",
    "}"
   ]
  },
  {
   "cell_type": "code",
   "execution_count": null,
   "metadata": {},
   "outputs": [],
   "source": []
  }
 ],
 "metadata": {
  "kernelspec": {
   "display_name": "R [conda env:r4.2.0]",
   "language": "R",
   "name": "conda-env-r4.2.0-r"
  },
  "language_info": {
   "codemirror_mode": "r",
   "file_extension": ".r",
   "mimetype": "text/x-r-source",
   "name": "R",
   "pygments_lexer": "r",
   "version": "4.2.3"
  }
 },
 "nbformat": 4,
 "nbformat_minor": 4
}
