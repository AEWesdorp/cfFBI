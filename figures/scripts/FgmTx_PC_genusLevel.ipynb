{
 "cells": [
  {
   "cell_type": "code",
   "execution_count": 7,
   "metadata": {},
   "outputs": [],
   "source": [
    "require(\"Rsamtools\")\n",
    "require(\"Hmisc\")\n",
    "require(\"dplyr\")\n",
    "require(\"ggplot2\")\n",
    "require(\"stringi\")\n",
    "require(\"stats\")\n",
    "require(\"Biostrings\")\n",
    "require(\"reshape2\")\n",
    "require(\"viridis\")\n",
    "require(\"seqinr\")\n",
    "require(\"stringr\")"
   ]
  },
  {
   "cell_type": "code",
   "execution_count": 8,
   "metadata": {},
   "outputs": [],
   "source": [
    "DB=\"EquAllRS\"\n",
    "fxG=\"../../output/04_fragmentomics/genus_level/\"\n",
    "db_dir=\"../../../make_database/\""
   ]
  },
  {
   "cell_type": "code",
   "execution_count": 9,
   "metadata": {},
   "outputs": [],
   "source": [
    "file_list <- list.files(path = fxG, pattern = \"R1.fastq\")\n",
    "if (exists(\"all_G\")){rm(\"all_G\")}\n",
    "for (f in file_list[grepl(file_list, pattern = \"PC\")]){\n",
    "    if(grepl(f, pattern = paste0(\"_\", DB,\"_\"))){\n",
    "        fastq_tmp <- read.table(file = paste0(fxG, f), sep = \"\\n\") \n",
    "\n",
    "        fastq_end_df <- data.frame(seq = fastq_tmp[seq(2, nrow(fastq_tmp), 4),]) %>% \n",
    "                    mutate(dn = substring(text = seq, 0, 2))  %>% \n",
    "                    group_by(dn) %>% \n",
    "                    summarise(count = n())\n",
    "\n",
    "        fastq_tl <- dinucleotideFrequency(x = DNAStringSet(fastq_tmp[seq(2, nrow(fastq_tmp), 4),]), \n",
    "            step=1, as.prob=FALSE, as.matrix=FALSE, fast.moving.side=\"right\", with.labels=TRUE) %>% \n",
    "            colSums() \n",
    "        \n",
    "        fastq_tl_df <- data.frame(dn = names(fastq_tl), count_tile = fastq_tl)\n",
    "\n",
    "        fastq_all_df <- merge(fastq_end_df, fastq_tl_df, by = \"dn\", all = TRUE) %>% \n",
    "                mutate(sample_id = unlist(strsplit(f, split = \"_\"))[1]) %>%  \n",
    "                mutate(taxId = unlist(strsplit(f, split = \"_\"))[4]) %>% \n",
    "                mutate(count_tile = count_tile - count)\n",
    "\n",
    "        if (!exists(\"all_G\")){all_G <- fastq_all_df} else {all_G <- rbind(all_G, fastq_all_df)}\n",
    "        rm(\"fastq_tmp\"); rm(\"fastq_end_df\"); rm(\"fastq_tl\");rm(\"fastq_tl_df\");rm(\"fastq_all_df\")\n",
    "    }\n",
    "} \n",
    "\n",
    "insp_file <- read.csv(file = paste0(db_dir, DB, \"_inspect.txt\"), header=FALSE, sep = \"\\t\", stringsAsFactors=FALSE)\n",
    "insp_file$V6 <-  str_trim(insp_file$V6, side = \"left\")\n",
    "all_G$taxNm <- NA\n",
    "for (txd in unique(all_G$taxId)){\n",
    "    txd_names <- insp_file$V6[insp_file$V5 == txd] \n",
    "    all_G <- all_G %>% mutate(taxNm = ifelse(taxId == txd, yes = txd_names, no = taxNm)) \n",
    "}"
   ]
  },
  {
   "cell_type": "code",
   "execution_count": 10,
   "metadata": {},
   "outputs": [
    {
     "data": {
      "image/png": "[encoded data removed]",
      "text/plain": [
       "plot without title"
      ]
     },
     "metadata": {
      "image/png": {
       "height": 240,
       "width": 420
      }
     },
     "output_type": "display_data"
    }
   ],
   "source": [
    "options(repr.plot.width=7, repr.plot.height=4)\n",
    "all_G %>% #head()\n",
    "    filter(taxNm %in% c(\"Pseudomonas\", \"Salmonella\", \"Limosilactobacillus\", #\"Escherichia\"\n",
    "                        \"Enterococcus\", \"Staphylococcus\", \"Listeria\", \"Bacillus\")) %>% \n",
    "    mutate(sample = ifelse(grepl(sample_id, pattern = \"^P\"), yes = \"PC\", no = \n",
    "                    ifelse(grepl(sample_id, pattern = \"^N\"), yes = \"NC\", no = \"sample\"))) %>% \n",
    "    filter(!grepl(dn, pattern = \"N\")) %>% \n",
    "    group_by(taxNm, sample, sample_id) %>% \n",
    "    mutate(ncount = count/sum(count)) %>%\n",
    "    mutate(ncount_tile = count_tile/sum(count_tile)) %>% \n",
    "    mutate(n_oe_log = log10(ncount/ncount_tile), n_oe = ncount/ncount_tile) %>%\n",
    "    ggplot(aes(x = dn, y = taxNm, fill = n_oe_log)) + \n",
    "        geom_tile() + scale_fill_viridis() + \n",
    "        facet_grid(cols = vars(sample), scales = \"free\", space = \"free\") + \n",
    "        theme_bw() + ylab(\"\") "
   ]
  },
  {
   "cell_type": "code",
   "execution_count": 11,
   "metadata": {},
   "outputs": [
    {
     "name": "stderr",
     "output_type": "stream",
     "text": [
      "\u001b[1m\u001b[22m`summarise()` has grouped output by 'taxNm'. You can override using the `.groups` argument.\n"
     ]
    },
    {
     "data": {
      "image/png": "[encoded data removed]",
      "text/plain": [
       "plot without title"
      ]
     },
     "metadata": {
      "image/png": {
       "height": 240,
       "width": 420
      }
     },
     "output_type": "display_data"
    }
   ],
   "source": [
    "options(repr.plot.width=7, repr.plot.height=4)\n",
    "all_G %>% \n",
    "    filter(taxNm %in% c(\"Pseudomonas\", \"Salmonella\", \"Limosilactobacillus\", #\"Escherichia\"\n",
    "                        \"Enterococcus\", \"Staphylococcus\", \"Listeria\", \"Bacillus\")) %>% \n",
    "    mutate(sample = ifelse(grepl(sample_id, pattern = \"^P\"), yes = \"PC\", no = \n",
    "                    ifelse(grepl(sample_id, pattern = \"^N\"), yes = \"NC\", no = \"sample\"))) %>% \n",
    "    filter(!grepl(dn, pattern = \"N\")) %>% \n",
    "    group_by(taxNm, sample) %>% #head()\n",
    "    summarise(total_count = sum(count)) %>% #head()\n",
    "    ggplot(aes(x = total_count, y = taxNm)) + \n",
    "        geom_bar(position = \"dodge\", stat = \"identity\", col = \"grey\") + \n",
    "        facet_grid(cols = vars(sample), scales = \"free_y\", space = \"free\") + \n",
    "        #scale_x_continuous(trans='log10') + xlab(\"log10(count)\") +\n",
    "        theme_bw() + ylab(\"\")"
   ]
  }
 ],
 "metadata": {
  "kernelspec": {
   "display_name": "R [conda env:r4.2.0]",
   "language": "R",
   "name": "conda-env-r4.2.0-r"
  },
  "language_info": {
   "codemirror_mode": "r",
   "file_extension": ".r",
   "mimetype": "text/x-r-source",
   "name": "R",
   "pygments_lexer": "r",
   "version": "4.2.3"
  }
 },
 "nbformat": 4,
 "nbformat_minor": 4
}
